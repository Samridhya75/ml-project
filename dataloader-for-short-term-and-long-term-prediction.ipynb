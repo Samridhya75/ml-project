{
 "cells": [
  {
   "cell_type": "markdown",
   "id": "a7cf02c6",
   "metadata": {
    "papermill": {
     "duration": 0.009612,
     "end_time": "2022-05-20T13:35:12.599214",
     "exception": false,
     "start_time": "2022-05-20T13:35:12.589602",
     "status": "completed"
    },
    "tags": []
   },
   "source": [
    "## Import and params"
   ]
  },
  {
   "cell_type": "code",
   "execution_count": null,
   "id": "cca66b66",
   "metadata": {
    "execution": {
     "iopub.execute_input": "2022-05-20T13:35:12.618709Z",
     "iopub.status.busy": "2022-05-20T13:35:12.618234Z",
     "iopub.status.idle": "2022-05-20T13:35:14.838769Z",
     "shell.execute_reply": "2022-05-20T13:35:14.838052Z"
    },
    "papermill": {
     "duration": 2.23309,
     "end_time": "2022-05-20T13:35:14.841084",
     "exception": false,
     "start_time": "2022-05-20T13:35:12.607994",
     "status": "completed"
    },
    "tags": []
   },
   "outputs": [],
   "source": [
    "import os\n",
    "\n",
    "import numpy as np\n",
    "import torch\n",
    "from tqdm import tqdm\n",
    "import pprint\n",
    "import rasterio\n",
    "\n",
    "LABEL_FILENAME = \"y.tif\""
   ]
  },
  {
   "cell_type": "markdown",
   "id": "bc541b89",
   "metadata": {
    "papermill": {
     "duration": 0.008307,
     "end_time": "2022-05-20T13:35:14.858192",
     "exception": false,
     "start_time": "2022-05-20T13:35:14.849885",
     "status": "completed"
    },
    "tags": []
   },
   "source": [
    "## Dataloader"
   ]
  },
  {
   "cell_type": "code",
   "execution_count": 2,
   "id": "3f9441b0",
   "metadata": {
    "_cell_guid": "b1076dfc-b9ad-4769-8c92-a6c4dae69d19",
    "_uuid": "8f2839f25d086af736a60e9eeb907d3b93b6e0e5",
    "execution": {
     "iopub.execute_input": "2022-05-20T13:35:14.878159Z",
     "iopub.status.busy": "2022-05-20T13:35:14.877723Z",
     "iopub.status.idle": "2022-05-20T13:35:14.921319Z",
     "shell.execute_reply": "2022-05-20T13:35:14.920246Z"
    },
    "papermill": {
     "duration": 0.056854,
     "end_time": "2022-05-20T13:35:14.923694",
     "exception": false,
     "start_time": "2022-05-20T13:35:14.866840",
     "status": "completed"
    },
    "tags": []
   },
   "outputs": [],
   "source": [
    "def get_dates(path, n=None):\n",
    "    \"\"\"\n",
    "    extracts a list of unique dates from dataset sample\n",
    "\n",
    "    :param path: to dataset sample folder\n",
    "    :param n: choose n random samples from all available dates\n",
    "    :return: list of unique dates in YYYYMMDD format\n",
    "    \"\"\"\n",
    "\n",
    "    files = os.listdir(path)\n",
    "    dates = list()\n",
    "    for f in files:\n",
    "        f = f.split(\"_\")[0]\n",
    "        if len(f) == 8:  # 20160101\n",
    "            dates.append(f)\n",
    "\n",
    "    dates = set(dates)\n",
    "\n",
    "    if n is not None:\n",
    "        dates = random.sample(dates, n)\n",
    "\n",
    "    dates = list(dates)\n",
    "    dates.sort()\n",
    "    return dates\n",
    "\n",
    "\n",
    "def read_classes(csv):\n",
    "    with open(csv, 'r') as f:\n",
    "        classes = f.readlines()\n",
    "\n",
    "    ids = list()\n",
    "    names = list()\n",
    "    reliable_start_grow = list()\n",
    "    reliable_end_grow = list()\n",
    "    unreliable_start_grow = list()\n",
    "    unreliable_end_grow = list()\n",
    "    for row in classes:\n",
    "        row = row.replace(\"\\n\", \"\")\n",
    "        if '|' in row:\n",
    "            cls_info = row.split('|')\n",
    "            # we can have multiple id\n",
    "            id_info = cls_info[0].split(',')\n",
    "            id_info = [int(x) for x in id_info]\n",
    "            # ids.append(int(cls_info[0]))\n",
    "            ids.append(id_info)\n",
    "            names.append(cls_info[1])\n",
    "            if len(cls_info) > 2:\n",
    "                reliable_start_grow.append(cls_info[2])\n",
    "                reliable_end_grow.append(cls_info[3])\n",
    "            if len(cls_info) > 4:\n",
    "                unreliable_start_grow.append(cls_info[2])\n",
    "                unreliable_end_grow.append(cls_info[3])\n",
    "\n",
    "    return ids, names, reliable_start_grow, reliable_end_grow, \\\n",
    "           unreliable_start_grow, unreliable_end_grow\n",
    "           \n",
    "   \n",
    "def get_patch_id(samples, idx_img):\n",
    "    _path = samples[idx_img]\n",
    "    if _path.endswith(os.sep):\n",
    "        _path = _path[:-1]\n",
    "    _id = os.path.basename(_path)\n",
    "    return _id, _path\n",
    "\n",
    "\n",
    "def read(file):\n",
    "    with rasterio.open(file) as src:\n",
    "        return src.read(), src.profile\n",
    "    \n",
    "\n",
    "def get_all_dates(path, num_max_dates, consecutive=False):\n",
    "    \"\"\"\n",
    "    extracts a list of unique dates from dataset sample\n",
    "\n",
    "    Args:\n",
    "        param path: to dataset sample folder\n",
    "        param num_max_dates: choose num_max_dates random samples from all available dates\n",
    "        consecutive: if True and num_max_dates < len(dates) then extracts consecutive dates else random\n",
    "    return: list of unique dates in YYYYMMDD format\n",
    "    \"\"\"\n",
    "    files = os.listdir(path)\n",
    "    dates = list()\n",
    "    for f in files:\n",
    "        f = f.split(\"_\")[0]\n",
    "        if len(f) == 8:  # f=20160101\n",
    "            dates.append(f)\n",
    "\n",
    "    dates = set(dates)\n",
    "    if num_max_dates < len(dates):\n",
    "        if not consecutive:\n",
    "            dates = random.sample(dates, num_max_dates)\n",
    "        else:  # extracts consecutive dates\n",
    "            dates = list(dates)\n",
    "            dates.sort()\n",
    "            diff = (len(dates) - num_max_dates)\n",
    "            start = diff // 2\n",
    "            stop = num_max_dates + start\n",
    "            subdates = dates[start:stop]\n",
    "            return subdates\n",
    "\n",
    "    dates = list(dates)\n",
    "    dates.sort()\n",
    "    return dates\n",
    "\n",
    "\n",
    "def labels_to_ids(ref_date, label, classids, start_grow=list(), stop_grow=list()):\n",
    "    new = np.zeros(label.shape, int)\n",
    "    data = date2int(ref_date)\n",
    "    for cl, i in zip(classids, range(len(classids))):\n",
    "        if isinstance(cl, int):\n",
    "            cl = [cl]\n",
    "        if len(start_grow) > 0:\n",
    "            date_start = date2int(start_grow[i])\n",
    "            date_stop = date2int(stop_grow[i])\n",
    "            if date_start < date_stop:  # same year\n",
    "                for c in cl:\n",
    "                    new[label == c] = i if date_start < data < date_stop else 0\n",
    "            else:  # different years: date_start is in the previous year\n",
    "                for c in cl:\n",
    "                    new[label == c] = i if data > date_start or data < date_stop else 0\n",
    "        else:\n",
    "            for c in cl:\n",
    "                new[label == c] = i\n",
    "    return new\n",
    "\n",
    "\n",
    "def date2int(date):\n",
    "    \"\"\" Ignore the year and transform the date into an int.\n",
    "        Ex.\n",
    "        20160205 -->  205\n",
    "        20161005 --> 1005\n",
    "    \"\"\"\n",
    "    assert (len(date) == 8)\n",
    "    return int(date[4:])\n",
    "\n",
    "\n",
    "def get_sliding_window(pos, x_annual_time_series, win_size):\n",
    "    # x_annual_time_series to sliding window\n",
    "    sw_stop = pos + 1\n",
    "    sw_start = sw_stop - win_size\n",
    "    if sw_start < 0:\n",
    "        # batch, channels, time_series, H, W = x_annual_time_series.shape\n",
    "        channels, time_series, H, W = x_annual_time_series.shape\n",
    "        # x_win = torch.zeros(batch, channels, win_size, H, W)\n",
    "        x_win = torch.zeros(channels, win_size, H, W)\n",
    "        # x_win[:, :, -sw_stop:, :, :] = x_annual_time_series[:, :, :sw_stop, :, :]\n",
    "        x_win[:, -sw_stop:, :, :] = x_annual_time_series[:, :sw_stop, :, :]\n",
    "    else:\n",
    "        # x_annual[batch, channels, time_series, H, W]\n",
    "        # x_win = x_annual_time_series[:, :, sw_start:sw_stop, :, :]\n",
    "        x_win = x_annual_time_series[:, sw_start:sw_stop, :, :]\n",
    "    return x_win\n",
    "\n",
    "            \n",
    "class SentinelDailyAnnualDataset(torch.utils.data.Dataset):\n",
    "    '''\n",
    "    If the first label is for example \"1|unknown\" then this will be replaced with a 0 (zero).\n",
    "    If you want to ignore other labels, then remove them from the classes.txt file and\n",
    "    this class will assigne label 0 (zero).\n",
    "    '''\n",
    "\n",
    "    def __init__(self, root_dirs, years, classes_path, max_seq_length, win_size, tileids=None, stride=1, consecutive=False):\n",
    "        self.max_seq_length = max_seq_length\n",
    "        self.win_size = win_size\n",
    "        self.stride = stride\n",
    "        self.consecutive = consecutive\n",
    "        # labels read from groudtruth files (y.tif)\n",
    "        # useful field to check the available labels\n",
    "        self.unique_labels = np.array([], dtype=float)\n",
    "        self.reliable_start_grow = list()\n",
    "        self.reliable_stop_grow = list()\n",
    "        self.unreliable_start_grow = list()\n",
    "        self.unreliable_stop_grow = list()\n",
    "        cls_info = read_classes(classes_path)\n",
    "        self.classids = cls_info[0]\n",
    "        self.classes = cls_info[1]\n",
    "        if len(cls_info[2]) > 0:\n",
    "            self.reliable_start_grow = cls_info[2]\n",
    "            self.reliable_stop_grow = cls_info[3]\n",
    "        if len(cls_info[4]) > 0:\n",
    "            self.unreliable_start_grow = cls_info[4]\n",
    "            self.unreliable_stop_grow = cls_info[5]\n",
    "\n",
    "        if type(years) is not list:\n",
    "            years = [years]\n",
    "        self.data_dirs = years\n",
    "\n",
    "        if type(root_dirs) is not list:\n",
    "            root_dirs = [root_dirs]\n",
    "        self.root_dirs = [r.rstrip(\"/\") for r in root_dirs]\n",
    "        self.name = \"\"\n",
    "        self.samples = list()\n",
    "        self.ndates = list()\n",
    "        for root_dir in self.root_dirs:\n",
    "            print(\"Reading dataset info:\", root_dir)\n",
    "            self.name += os.path.basename(root_dir) + '_'\n",
    "\n",
    "            for d in self.data_dirs:\n",
    "                if not os.path.isdir(os.path.join(root_dir, d)):\n",
    "                    sys.exit('The directory '+os.path.join(root_dir, d)+\" does not exist!\")\n",
    "\n",
    "            stats = dict(\n",
    "                rejected_nopath=0,\n",
    "                rejected_length=0,\n",
    "                total_samples=0)\n",
    "\n",
    "            dirs = []\n",
    "            if tileids is None:\n",
    "                # files = os.listdir(self.data_dirs)\n",
    "                for d in self.data_dirs:\n",
    "                    dirs_name = os.listdir(os.path.join(root_dir, d))\n",
    "                    dirs_path = [os.path.join(root_dir, d, f) for f in dirs_name]\n",
    "                    dirs.extend(dirs_path)\n",
    "            else:\n",
    "                # tileids e.g. \"tileids/train_fold0.tileids\" path of line separated tileids specifying\n",
    "                with open(os.path.join(root_dir, tileids), 'r') as f:\n",
    "                    files = [el.replace(\"\\n\", \"\") for el in f.readlines()]\n",
    "                for d in self.data_dirs:\n",
    "                    dirs_path = [os.path.join(root_dir, d, f) for f in files]\n",
    "                    dirs.extend(dirs_path)\n",
    "\n",
    "            for path in tqdm(dirs):\n",
    "\n",
    "                if not os.path.exists(path):\n",
    "                    stats[\"rejected_nopath\"] += 1\n",
    "                    continue\n",
    "                if not os.path.exists(os.path.join(path, LABEL_FILENAME)):\n",
    "                    stats[\"rejected_nopath\"] += 1\n",
    "                    continue\n",
    "                ndates = len(get_dates(path))\n",
    "\n",
    "                stats[\"total_samples\"] += 1\n",
    "                self.samples.append(path)\n",
    "                self.ndates.append(ndates)\n",
    "\n",
    "            pprint.pprint(stats)\n",
    "\n",
    "    def __len__(self):\n",
    "        return len(self.samples)\n",
    "\n",
    "    def __getitem__(self, idx_img):\n",
    "        patch_id, path = get_patch_id(self.samples, idx_img)\n",
    "\n",
    "        label, profile = read(os.path.join(path, LABEL_FILENAME))\n",
    "\n",
    "        # unique consecutive dates sorted ascending inside a random window\n",
    "        dates = get_all_dates(path, self.max_seq_length, consecutive=self.consecutive)\n",
    "\n",
    "        x_annual = list()\n",
    "\n",
    "        for date in dates:\n",
    "            x10_img, profile = read(os.path.join(path, date + \".tif\"))\n",
    "            x_annual.append(x10_img)\n",
    "\n",
    "        # replace stored ids available in classes csv with indexes\n",
    "        label = label[0]\n",
    "        self.unique_labels = np.unique(np.concatenate([label.flatten(), self.unique_labels]))\n",
    "        y_annual = labels_to_ids(dates[-1], label, self.classids)\n",
    "        y_dailies = list()\n",
    "        for idx_date in range(len(dates)):\n",
    "            if len(self.unreliable_stop_grow) > 0:\n",
    "                y_daily = labels_to_ids(dates[idx_date], label, self.classids, self.reliable_start_grow, self.unreliable_stop_grow)\n",
    "            else:\n",
    "                y_daily = labels_to_ids(dates[idx_date], label, self.classids, self.reliable_start_grow, self.reliable_stop_grow)\n",
    "            y_dailies.append(y_daily)\n",
    "\n",
    "        # padding\n",
    "        padding_size = max(0, self.max_seq_length - len(dates))\n",
    "        for i in range(padding_size):\n",
    "            y_dailies.append(np.zeros_like(y_dailies[0]))\n",
    "            x_annual.append(np.zeros_like(x_annual[0]))\n",
    "            dates.append(dates[-1][:4] + '1231')\n",
    "        # dates = np.pad(dates, (0, padding_size - 1), mode='edge')  # padding with mirror\n",
    "\n",
    "        x_annual = np.array(x_annual) * 1e-4\n",
    "        x_annual = torch.from_numpy(x_annual)\n",
    "        y_dailies = torch.from_numpy(np.array(y_dailies))\n",
    "        y_annual = torch.from_numpy(y_annual)\n",
    "\n",
    "        # if torch.min(y_annual).item() == 0:\n",
    "        #     print(\"0 label\")\n",
    "        #     labels_to_ids(dates[-1], label, self.classids)\n",
    "        # permute channels with time_series (t x c x h x w) -> (c x t x h x w)\n",
    "        x_annual = x_annual.permute(1, 0, 2, 3)\n",
    "\n",
    "        x_annual = x_annual.float()\n",
    "        y_annual = y_annual.long()\n",
    "        y_dailies = y_dailies.long()\n",
    "\n",
    "        # create sliding windows from x_annual\n",
    "        x_dailies = list()\n",
    "        for i in range(len(dates)):\n",
    "            x_win = get_sliding_window(i, x_annual, self.win_size)\n",
    "            x_dailies.append(x_win)\n",
    "        x_dailies = torch.stack(x_dailies)\n",
    "\n",
    "        # simple stride (can be obtimized)\n",
    "        if self.stride > 1:\n",
    "            x_dailies = x_dailies[::self.stride, :, :, :, :]\n",
    "            y_dailies = y_dailies[::self.stride, :, ]\n",
    "            dates = dates[::self.stride]\n",
    "\n",
    "\n",
    "        # return x_dailies, y_annual, y_dailies, dates, patch_id\n",
    "        return x_dailies, y_annual, y_dailies, dates, path\n"
   ]
  },
  {
   "cell_type": "code",
   "execution_count": 3,
   "id": "f5366653",
   "metadata": {
    "execution": {
     "iopub.execute_input": "2022-05-20T13:35:14.941978Z",
     "iopub.status.busy": "2022-05-20T13:35:14.941721Z",
     "iopub.status.idle": "2022-05-20T13:35:18.368976Z",
     "shell.execute_reply": "2022-05-20T13:35:18.367593Z"
    },
    "papermill": {
     "duration": 3.439468,
     "end_time": "2022-05-20T13:35:18.371468",
     "exception": false,
     "start_time": "2022-05-20T13:35:14.932000",
     "status": "completed"
    },
    "tags": []
   },
   "outputs": [
    {
     "name": "stdout",
     "output_type": "stream",
     "text": [
      "Reading dataset info: /kaggle/input/sentinel2-crop-mapping/lombardia\n"
     ]
    },
    {
     "name": "stderr",
     "output_type": "stream",
     "text": [
      "100%|██████████| 10/10 [00:00<00:00, 33.10it/s]\n"
     ]
    },
    {
     "name": "stdout",
     "output_type": "stream",
     "text": [
      "{'rejected_length': 0, 'rejected_nopath': 0, 'total_samples': 10}\n",
      "Reading dataset info: /kaggle/input/sentinel2-crop-mapping/lombardia2\n"
     ]
    },
    {
     "name": "stderr",
     "output_type": "stream",
     "text": [
      "100%|██████████| 10/10 [00:00<00:00, 31.90it/s]\n",
      "/opt/conda/lib/python3.7/site-packages/torch/utils/data/dataloader.py:490: UserWarning: This DataLoader will create 8 worker processes in total. Our suggested max number of worker in current system is 4, which is smaller than what this DataLoader is going to create. Please be aware that excessive worker creation might get DataLoader running slow or even freeze, lower the worker number to avoid potential slowness/freeze if necessary.\n",
      "  cpuset_checked))\n"
     ]
    },
    {
     "name": "stdout",
     "output_type": "stream",
     "text": [
      "{'rejected_length': 0, 'rejected_nopath': 0, 'total_samples': 10}\n",
      "x_dailies torch.Size([2, 71, 9, 7, 48, 48])\n",
      "y_annual torch.Size([2, 48, 48])\n",
      "y_dailies torch.Size([2, 71, 48, 48])\n",
      "dates 71\n",
      "dates[0] ('20160110', '20160103')\n",
      "patch_id ('/kaggle/input/sentinel2-crop-mapping/lombardia/data2016/3091', '/kaggle/input/sentinel2-crop-mapping/lombardia2/data2016/24')\n"
     ]
    }
   ],
   "source": [
    "    dataset = SentinelDailyAnnualDataset(\n",
    "        [\"/kaggle/input/sentinel2-crop-mapping/lombardia\",\n",
    "         \"/kaggle/input/sentinel2-crop-mapping/lombardia2\"],\n",
    "        [\"data2016\"],\n",
    "        \"/kaggle/input/sentinel2-crop-mapping/lombardia-classes/classes25pc.txt\",\n",
    "        71, # max_seq_length\n",
    "        7,  # win_size\n",
    "        tileids=\"tileids/train_small.tileids\"\n",
    "    )\n",
    "\n",
    "    dataloader = torch.utils.data.DataLoader(\n",
    "        dataset, batch_size=2, shuffle=True, num_workers=8)\n",
    "\n",
    "    # for data in dataloader:\n",
    "    #     print(len(data))\n",
    "        \n",
    "    x_dailies, y_annual, y_dailies, dates, patch_id = next(iter(dataloader))\n",
    "    print(\"x_dailies\", x_dailies.shape)\n",
    "    print(\"y_annual\", y_annual.shape)\n",
    "    print(\"y_dailies\", y_dailies.shape)\n",
    "    print(\"dates\", len(dates))\n",
    "    print(\"dates[0]\", dates[0])\n",
    "    print(\"patch_id\", patch_id)"
   ]
  },
  {
   "cell_type": "markdown",
   "id": "640bc851",
   "metadata": {
    "papermill": {
     "duration": 0.013497,
     "end_time": "2022-05-20T13:35:18.399081",
     "exception": false,
     "start_time": "2022-05-20T13:35:18.385584",
     "status": "completed"
    },
    "tags": []
   },
   "source": [
    "## Plot some images"
   ]
  },
  {
   "cell_type": "code",
   "execution_count": 4,
   "id": "f4860866",
   "metadata": {
    "execution": {
     "iopub.execute_input": "2022-05-20T13:35:18.426266Z",
     "iopub.status.busy": "2022-05-20T13:35:18.425355Z",
     "iopub.status.idle": "2022-05-20T13:35:18.430149Z",
     "shell.execute_reply": "2022-05-20T13:35:18.429274Z"
    },
    "papermill": {
     "duration": 0.020585,
     "end_time": "2022-05-20T13:35:18.432097",
     "exception": false,
     "start_time": "2022-05-20T13:35:18.411512",
     "status": "completed"
    },
    "tags": []
   },
   "outputs": [],
   "source": [
    "import matplotlib.pyplot as plt"
   ]
  },
  {
   "cell_type": "markdown",
   "id": "060855ab",
   "metadata": {
    "papermill": {
     "duration": 0.012253,
     "end_time": "2022-05-20T13:35:18.457036",
     "exception": false,
     "start_time": "2022-05-20T13:35:18.444783",
     "status": "completed"
    },
    "tags": []
   },
   "source": [
    "Load and show multispectral image"
   ]
  },
  {
   "cell_type": "code",
   "execution_count": 5,
   "id": "d1c0c302",
   "metadata": {
    "execution": {
     "iopub.execute_input": "2022-05-20T13:35:18.483668Z",
     "iopub.status.busy": "2022-05-20T13:35:18.483374Z",
     "iopub.status.idle": "2022-05-20T13:35:18.784647Z",
     "shell.execute_reply": "2022-05-20T13:35:18.783542Z"
    },
    "papermill": {
     "duration": 0.317803,
     "end_time": "2022-05-20T13:35:18.787255",
     "exception": false,
     "start_time": "2022-05-20T13:35:18.469452",
     "status": "completed"
    },
    "tags": []
   },
   "outputs": [
    {
     "data": {
      "image/png": "[encoded data removed]",
      "text/plain": [
       "<Figure size 432x288 with 1 Axes>"
      ]
     },
     "metadata": {
      "needs_background": "light"
     },
     "output_type": "display_data"
    },
    {
     "data": {
      "text/plain": [
       "<AxesSubplot:>"
      ]
     },
     "execution_count": 5,
     "metadata": {},
     "output_type": "execute_result"
    }
   ],
   "source": [
    "from rasterio.plot import show\n",
    "\n",
    "fp = r'/kaggle/input/sentinel2-crop-mapping/lombardia/data2016/1/20160608.tif'\n",
    "img = rasterio.open(fp)\n",
    "show(img)"
   ]
  },
  {
   "cell_type": "markdown",
   "id": "6dd2a661",
   "metadata": {
    "papermill": {
     "duration": 0.01412,
     "end_time": "2022-05-20T13:35:18.815224",
     "exception": false,
     "start_time": "2022-05-20T13:35:18.801104",
     "status": "completed"
    },
    "tags": []
   },
   "source": [
    "Load and show labels image"
   ]
  },
  {
   "cell_type": "code",
   "execution_count": 6,
   "id": "f61d97bb",
   "metadata": {
    "execution": {
     "iopub.execute_input": "2022-05-20T13:35:18.845256Z",
     "iopub.status.busy": "2022-05-20T13:35:18.844969Z",
     "iopub.status.idle": "2022-05-20T13:35:19.015762Z",
     "shell.execute_reply": "2022-05-20T13:35:19.014778Z"
    },
    "papermill": {
     "duration": 0.188271,
     "end_time": "2022-05-20T13:35:19.017919",
     "exception": false,
     "start_time": "2022-05-20T13:35:18.829648",
     "status": "completed"
    },
    "tags": []
   },
   "outputs": [
    {
     "data": {
      "image/png": "[encoded data removed]",
      "text/plain": [
       "<Figure size 432x288 with 1 Axes>"
      ]
     },
     "metadata": {
      "needs_background": "light"
     },
     "output_type": "display_data"
    },
    {
     "data": {
      "text/plain": [
       "<AxesSubplot:>"
      ]
     },
     "execution_count": 6,
     "metadata": {},
     "output_type": "execute_result"
    }
   ],
   "source": [
    "fp = r'/kaggle/input/sentinel2-crop-mapping/lombardia/data2016/1/y.tif'\n",
    "img = rasterio.open(fp)\n",
    "show(img)"
   ]
  }
 ],
 "metadata": {
  "kernelspec": {
   "display_name": "Python 3",
   "language": "python",
   "name": "python3"
  },
  "language_info": {
   "codemirror_mode": {
    "name": "ipython",
    "version": 3
   },
   "file_extension": ".py",
   "mimetype": "text/x-python",
   "name": "python",
   "nbconvert_exporter": "python",
   "pygments_lexer": "ipython3",
   "version": "3.12.2"
  },
  "papermill": {
   "default_parameters": {},
   "duration": 16.67158,
   "end_time": "2022-05-20T13:35:19.955676",
   "environment_variables": {},
   "exception": null,
   "input_path": "__notebook__.ipynb",
   "output_path": "__notebook__.ipynb",
   "parameters": {},
   "start_time": "2022-05-20T13:35:03.284096",
   "version": "2.3.4"
  }
 },
 "nbformat": 4,
 "nbformat_minor": 5
}
