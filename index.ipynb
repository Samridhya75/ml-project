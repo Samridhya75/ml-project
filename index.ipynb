{
 "cells": [
  {
   "cell_type": "code",
   "execution_count": null,
   "metadata": {},
   "outputs": [],
   "source": [
    "import numpy as np\n",
    "import cv2\n",
    "import os\n",
    "import tensorflow as tf\n",
    "from tensorflow import keras\n",
    "from matplotlib import pyplot as plt\n",
    "from PIL import Image\n",
    "from tensorflow.keras.metrics import Accuracy, Precision, Recall\n",
    "from sklearn.preprocessing import MinMaxScaler\n"
   ]
  },
  {
   "cell_type": "code",
   "execution_count": 12,
   "metadata": {},
   "outputs": [],
   "source": [
    "dataset_root_folder = 'dataset/Satellite Dataset'"
   ]
  },
  {
   "cell_type": "code",
   "execution_count": 13,
   "metadata": {},
   "outputs": [],
   "source": [
    "dataset_name = 'Satellite Dataset'"
   ]
  },
  {
   "cell_type": "code",
   "execution_count": 14,
   "metadata": {},
   "outputs": [],
   "source": [
    "from skimage.util import view_as_blocks\n",
    "patch_size = 256\n",
    "image_dataset = []\n",
    "mask_dataset = []\n",
    "image_directories= ['test_image','train_image']\n",
    "\n",
    "for image_directory in image_directories:\n",
    "    image_directory_path = os.path.join(dataset_root_folder, image_directory)\n",
    "    \n",
    "    for dirpath, dirnames, filenames in os.walk(image_directory_path):\n",
    "        filenames.sort()\n",
    "        for filename in filenames:\n",
    "            if filename.endswith(\".jpg\"):\n",
    "                image_path = os.path.join(dirpath, filename)\n",
    "                image = cv2.imread(image_path)\n",
    "                if image is not None:\n",
    "                    height, width, _ = image.shape\n",
    "                    new_height = (height // patch_size) * patch_size\n",
    "                    new_width = (width // patch_size) * patch_size\n",
    "                    image = image[:new_height, :new_width, :]\n",
    "                    patches = view_as_blocks(image, (patch_size, patch_size, 3))\n",
    "                    \n",
    "                    for i in range(patches.shape[0]):\n",
    "                        for j in range(patches.shape[1]):\n",
    "                            single_patch_img = patches[i, j, :, :, :].copy() / 255  # Normalize the patch\n",
    "                            image_dataset.append(single_patch_img)"
   ]
  },
  {
   "cell_type": "code",
   "execution_count": null,
   "metadata": {},
   "outputs": [],
   "source": []
  }
 ],
 "metadata": {
  "kernelspec": {
   "display_name": "Python 3",
   "language": "python",
   "name": "python3"
  },
  "language_info": {
   "codemirror_mode": {
    "name": "ipython",
    "version": 3
   },
   "file_extension": ".py",
   "mimetype": "text/x-python",
   "name": "python",
   "nbconvert_exporter": "python",
   "pygments_lexer": "ipython3",
   "version": "3.10.4"
  }
 },
 "nbformat": 4,
 "nbformat_minor": 2
}
